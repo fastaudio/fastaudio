{
 "cells": [
  {
   "cell_type": "markdown",
   "metadata": {},
   "source": [
    "# Simple training tutorial\n",
    "\n",
    "The objective of this tutorial is to show you the basics of the library and how it can be used to simplify the audio processing pipeline.\n",
    "\n",
    "This page is generated from the corresponding jupyter notebook, that can be found on [this folder](https://github.com/fastaudio/fastaudio/tree/master/docs)"
   ]
  },
  {
   "cell_type": "markdown",
   "metadata": {},
   "source": [
    "To install the library, just run this cell:"
   ]
  },
  {
   "cell_type": "code",
   "execution_count": 1,
   "metadata": {},
   "outputs": [
    {
     "name": "stdout",
     "output_type": "stream",
     "text": [
      "Collecting git+https://github.com/fastaudio/fastaudio.git\n",
      "  Cloning https://github.com/fastaudio/fastaudio.git to /tmp/pip-req-build-6zgms_f1\n",
      "Requirement already satisfied: fastai==2.0.16 in /home/harry/miniconda3/envs/fastaudio/lib/python3.8/site-packages (from fastaudio==0.0.post0.dev142+gccf6bf3) (2.0.16)\n",
      "Requirement already satisfied: torchaudio>=0.6 in /home/harry/miniconda3/envs/fastaudio/lib/python3.8/site-packages (from fastaudio==0.0.post0.dev142+gccf6bf3) (0.6.0)\n",
      "Requirement already satisfied: librosa==0.8 in /home/harry/miniconda3/envs/fastaudio/lib/python3.8/site-packages (from fastaudio==0.0.post0.dev142+gccf6bf3) (0.8.0)\n",
      "Requirement already satisfied: colorednoise>=1.1 in /home/harry/miniconda3/envs/fastaudio/lib/python3.8/site-packages (from fastaudio==0.0.post0.dev142+gccf6bf3) (1.1.1)\n",
      "Requirement already satisfied: IPython>=7.16 in /home/harry/miniconda3/envs/fastaudio/lib/python3.8/site-packages (from fastaudio==0.0.post0.dev142+gccf6bf3) (7.18.1)\n",
      "Requirement already satisfied: fastcore==1.1.2 in /home/harry/miniconda3/envs/fastaudio/lib/python3.8/site-packages (from fastaudio==0.0.post0.dev142+gccf6bf3) (1.1.2)\n",
      "Requirement already satisfied: pip in /home/harry/miniconda3/envs/fastaudio/lib/python3.8/site-packages (from fastai==2.0.16->fastaudio==0.0.post0.dev142+gccf6bf3) (20.2.4)\n",
      "Requirement already satisfied: requests in /home/harry/miniconda3/envs/fastaudio/lib/python3.8/site-packages (from fastai==2.0.16->fastaudio==0.0.post0.dev142+gccf6bf3) (2.24.0)\n",
      "Requirement already satisfied: pillow in /home/harry/miniconda3/envs/fastaudio/lib/python3.8/site-packages (from fastai==2.0.16->fastaudio==0.0.post0.dev142+gccf6bf3) (8.0.1)\n",
      "Requirement already satisfied: torchvision>=0.7 in /home/harry/miniconda3/envs/fastaudio/lib/python3.8/site-packages (from fastai==2.0.16->fastaudio==0.0.post0.dev142+gccf6bf3) (0.8.1)\n",
      "Requirement already satisfied: matplotlib in /home/harry/miniconda3/envs/fastaudio/lib/python3.8/site-packages (from fastai==2.0.16->fastaudio==0.0.post0.dev142+gccf6bf3) (3.3.2)\n",
      "Requirement already satisfied: pandas in /home/harry/miniconda3/envs/fastaudio/lib/python3.8/site-packages (from fastai==2.0.16->fastaudio==0.0.post0.dev142+gccf6bf3) (1.1.3)\n",
      "Requirement already satisfied: spacy in /home/harry/miniconda3/envs/fastaudio/lib/python3.8/site-packages (from fastai==2.0.16->fastaudio==0.0.post0.dev142+gccf6bf3) (2.3.2)\n",
      "Requirement already satisfied: torch>=1.6.0 in /home/harry/miniconda3/envs/fastaudio/lib/python3.8/site-packages (from fastai==2.0.16->fastaudio==0.0.post0.dev142+gccf6bf3) (1.6.0)\n",
      "Requirement already satisfied: scikit-learn in /home/harry/miniconda3/envs/fastaudio/lib/python3.8/site-packages (from fastai==2.0.16->fastaudio==0.0.post0.dev142+gccf6bf3) (0.23.2)\n",
      "Requirement already satisfied: fastprogress>=0.2.4 in /home/harry/miniconda3/envs/fastaudio/lib/python3.8/site-packages (from fastai==2.0.16->fastaudio==0.0.post0.dev142+gccf6bf3) (1.0.0)\n",
      "Requirement already satisfied: scipy in /home/harry/miniconda3/envs/fastaudio/lib/python3.8/site-packages (from fastai==2.0.16->fastaudio==0.0.post0.dev142+gccf6bf3) (1.5.3)\n",
      "Requirement already satisfied: pyyaml in /home/harry/miniconda3/envs/fastaudio/lib/python3.8/site-packages (from fastai==2.0.16->fastaudio==0.0.post0.dev142+gccf6bf3) (5.3.1)\n",
      "Requirement already satisfied: packaging in /home/harry/miniconda3/envs/fastaudio/lib/python3.8/site-packages (from fastai==2.0.16->fastaudio==0.0.post0.dev142+gccf6bf3) (20.4)\n",
      "Requirement already satisfied: decorator>=3.0.0 in /home/harry/miniconda3/envs/fastaudio/lib/python3.8/site-packages (from librosa==0.8->fastaudio==0.0.post0.dev142+gccf6bf3) (4.4.2)\n",
      "Requirement already satisfied: pooch>=1.0 in /home/harry/miniconda3/envs/fastaudio/lib/python3.8/site-packages (from librosa==0.8->fastaudio==0.0.post0.dev142+gccf6bf3) (1.2.0)\n",
      "Requirement already satisfied: numpy>=1.15.0 in /home/harry/miniconda3/envs/fastaudio/lib/python3.8/site-packages (from librosa==0.8->fastaudio==0.0.post0.dev142+gccf6bf3) (1.19.2)\n",
      "Requirement already satisfied: numba>=0.43.0 in /home/harry/miniconda3/envs/fastaudio/lib/python3.8/site-packages (from librosa==0.8->fastaudio==0.0.post0.dev142+gccf6bf3) (0.51.2)\n",
      "Requirement already satisfied: resampy>=0.2.2 in /home/harry/miniconda3/envs/fastaudio/lib/python3.8/site-packages (from librosa==0.8->fastaudio==0.0.post0.dev142+gccf6bf3) (0.2.2)\n",
      "Requirement already satisfied: soundfile>=0.9.0 in /home/harry/miniconda3/envs/fastaudio/lib/python3.8/site-packages (from librosa==0.8->fastaudio==0.0.post0.dev142+gccf6bf3) (0.10.3.post1)\n",
      "Requirement already satisfied: joblib>=0.14 in /home/harry/miniconda3/envs/fastaudio/lib/python3.8/site-packages (from librosa==0.8->fastaudio==0.0.post0.dev142+gccf6bf3) (0.17.0)\n",
      "Requirement already satisfied: audioread>=2.0.0 in /home/harry/miniconda3/envs/fastaudio/lib/python3.8/site-packages (from librosa==0.8->fastaudio==0.0.post0.dev142+gccf6bf3) (2.1.9)\n",
      "Requirement already satisfied: traitlets>=4.2 in /home/harry/miniconda3/envs/fastaudio/lib/python3.8/site-packages (from IPython>=7.16->fastaudio==0.0.post0.dev142+gccf6bf3) (5.0.5)\n",
      "Requirement already satisfied: pygments in /home/harry/miniconda3/envs/fastaudio/lib/python3.8/site-packages (from IPython>=7.16->fastaudio==0.0.post0.dev142+gccf6bf3) (2.7.2)\n",
      "Requirement already satisfied: pickleshare in /home/harry/miniconda3/envs/fastaudio/lib/python3.8/site-packages (from IPython>=7.16->fastaudio==0.0.post0.dev142+gccf6bf3) (0.7.5)\n",
      "Requirement already satisfied: backcall in /home/harry/miniconda3/envs/fastaudio/lib/python3.8/site-packages (from IPython>=7.16->fastaudio==0.0.post0.dev142+gccf6bf3) (0.2.0)\n",
      "Requirement already satisfied: prompt-toolkit!=3.0.0,!=3.0.1,<3.1.0,>=2.0.0 in /home/harry/miniconda3/envs/fastaudio/lib/python3.8/site-packages (from IPython>=7.16->fastaudio==0.0.post0.dev142+gccf6bf3) (3.0.8)\n",
      "Requirement already satisfied: pexpect>4.3; sys_platform != \"win32\" in /home/harry/miniconda3/envs/fastaudio/lib/python3.8/site-packages (from IPython>=7.16->fastaudio==0.0.post0.dev142+gccf6bf3) (4.8.0)\n",
      "Requirement already satisfied: setuptools>=18.5 in /home/harry/miniconda3/envs/fastaudio/lib/python3.8/site-packages (from IPython>=7.16->fastaudio==0.0.post0.dev142+gccf6bf3) (49.6.0.post20201009)\n",
      "Requirement already satisfied: jedi>=0.10 in /home/harry/miniconda3/envs/fastaudio/lib/python3.8/site-packages (from IPython>=7.16->fastaudio==0.0.post0.dev142+gccf6bf3) (0.17.2)\n",
      "Requirement already satisfied: chardet<4,>=3.0.2 in /home/harry/miniconda3/envs/fastaudio/lib/python3.8/site-packages (from requests->fastai==2.0.16->fastaudio==0.0.post0.dev142+gccf6bf3) (3.0.4)\n",
      "Requirement already satisfied: urllib3!=1.25.0,!=1.25.1,<1.26,>=1.21.1 in /home/harry/miniconda3/envs/fastaudio/lib/python3.8/site-packages (from requests->fastai==2.0.16->fastaudio==0.0.post0.dev142+gccf6bf3) (1.25.11)\n",
      "Requirement already satisfied: certifi>=2017.4.17 in /home/harry/miniconda3/envs/fastaudio/lib/python3.8/site-packages (from requests->fastai==2.0.16->fastaudio==0.0.post0.dev142+gccf6bf3) (2020.6.20)\n",
      "Requirement already satisfied: idna<3,>=2.5 in /home/harry/miniconda3/envs/fastaudio/lib/python3.8/site-packages (from requests->fastai==2.0.16->fastaudio==0.0.post0.dev142+gccf6bf3) (2.10)\n",
      "Requirement already satisfied: kiwisolver>=1.0.1 in /home/harry/miniconda3/envs/fastaudio/lib/python3.8/site-packages (from matplotlib->fastai==2.0.16->fastaudio==0.0.post0.dev142+gccf6bf3) (1.3.0)\n",
      "Requirement already satisfied: pyparsing!=2.0.4,!=2.1.2,!=2.1.6,>=2.0.3 in /home/harry/miniconda3/envs/fastaudio/lib/python3.8/site-packages (from matplotlib->fastai==2.0.16->fastaudio==0.0.post0.dev142+gccf6bf3) (2.4.7)\n",
      "Requirement already satisfied: python-dateutil>=2.1 in /home/harry/miniconda3/envs/fastaudio/lib/python3.8/site-packages (from matplotlib->fastai==2.0.16->fastaudio==0.0.post0.dev142+gccf6bf3) (2.8.1)\n",
      "Requirement already satisfied: cycler>=0.10 in /home/harry/miniconda3/envs/fastaudio/lib/python3.8/site-packages (from matplotlib->fastai==2.0.16->fastaudio==0.0.post0.dev142+gccf6bf3) (0.10.0)\n",
      "Requirement already satisfied: pytz>=2017.2 in /home/harry/miniconda3/envs/fastaudio/lib/python3.8/site-packages (from pandas->fastai==2.0.16->fastaudio==0.0.post0.dev142+gccf6bf3) (2020.1)\n",
      "Requirement already satisfied: wasabi<1.1.0,>=0.4.0 in /home/harry/miniconda3/envs/fastaudio/lib/python3.8/site-packages (from spacy->fastai==2.0.16->fastaudio==0.0.post0.dev142+gccf6bf3) (0.8.0)\n",
      "Requirement already satisfied: thinc==7.4.1 in /home/harry/miniconda3/envs/fastaudio/lib/python3.8/site-packages (from spacy->fastai==2.0.16->fastaudio==0.0.post0.dev142+gccf6bf3) (7.4.1)\n",
      "Requirement already satisfied: preshed<3.1.0,>=3.0.2 in /home/harry/miniconda3/envs/fastaudio/lib/python3.8/site-packages (from spacy->fastai==2.0.16->fastaudio==0.0.post0.dev142+gccf6bf3) (3.0.2)\n",
      "Requirement already satisfied: tqdm<5.0.0,>=4.38.0 in /home/harry/miniconda3/envs/fastaudio/lib/python3.8/site-packages (from spacy->fastai==2.0.16->fastaudio==0.0.post0.dev142+gccf6bf3) (4.51.0)\n",
      "Requirement already satisfied: cymem<2.1.0,>=2.0.2 in /home/harry/miniconda3/envs/fastaudio/lib/python3.8/site-packages (from spacy->fastai==2.0.16->fastaudio==0.0.post0.dev142+gccf6bf3) (2.0.3)\n",
      "Requirement already satisfied: srsly<1.1.0,>=1.0.2 in /home/harry/miniconda3/envs/fastaudio/lib/python3.8/site-packages (from spacy->fastai==2.0.16->fastaudio==0.0.post0.dev142+gccf6bf3) (1.0.2)\n",
      "Requirement already satisfied: plac<1.2.0,>=0.9.6 in /home/harry/miniconda3/envs/fastaudio/lib/python3.8/site-packages (from spacy->fastai==2.0.16->fastaudio==0.0.post0.dev142+gccf6bf3) (1.1.3)\n",
      "Requirement already satisfied: murmurhash<1.1.0,>=0.28.0 in /home/harry/miniconda3/envs/fastaudio/lib/python3.8/site-packages (from spacy->fastai==2.0.16->fastaudio==0.0.post0.dev142+gccf6bf3) (1.0.2)\n",
      "Requirement already satisfied: blis<0.5.0,>=0.4.0 in /home/harry/miniconda3/envs/fastaudio/lib/python3.8/site-packages (from spacy->fastai==2.0.16->fastaudio==0.0.post0.dev142+gccf6bf3) (0.4.1)\n",
      "Requirement already satisfied: catalogue<1.1.0,>=0.0.7 in /home/harry/miniconda3/envs/fastaudio/lib/python3.8/site-packages (from spacy->fastai==2.0.16->fastaudio==0.0.post0.dev142+gccf6bf3) (1.0.0)\n",
      "Requirement already satisfied: future in /home/harry/miniconda3/envs/fastaudio/lib/python3.8/site-packages (from torch>=1.6.0->fastai==2.0.16->fastaudio==0.0.post0.dev142+gccf6bf3) (0.18.2)\n",
      "Requirement already satisfied: threadpoolctl>=2.0.0 in /home/harry/miniconda3/envs/fastaudio/lib/python3.8/site-packages (from scikit-learn->fastai==2.0.16->fastaudio==0.0.post0.dev142+gccf6bf3) (2.1.0)\n",
      "Requirement already satisfied: six in /home/harry/miniconda3/envs/fastaudio/lib/python3.8/site-packages (from packaging->fastai==2.0.16->fastaudio==0.0.post0.dev142+gccf6bf3) (1.15.0)\n",
      "Requirement already satisfied: appdirs in /home/harry/miniconda3/envs/fastaudio/lib/python3.8/site-packages (from pooch>=1.0->librosa==0.8->fastaudio==0.0.post0.dev142+gccf6bf3) (1.4.4)\n",
      "Requirement already satisfied: llvmlite<0.35,>=0.34.0.dev0 in /home/harry/miniconda3/envs/fastaudio/lib/python3.8/site-packages (from numba>=0.43.0->librosa==0.8->fastaudio==0.0.post0.dev142+gccf6bf3) (0.34.0)\n",
      "Requirement already satisfied: cffi>=1.0 in /home/harry/miniconda3/envs/fastaudio/lib/python3.8/site-packages (from soundfile>=0.9.0->librosa==0.8->fastaudio==0.0.post0.dev142+gccf6bf3) (1.14.3)\n",
      "Requirement already satisfied: ipython-genutils in /home/harry/miniconda3/envs/fastaudio/lib/python3.8/site-packages (from traitlets>=4.2->IPython>=7.16->fastaudio==0.0.post0.dev142+gccf6bf3) (0.2.0)\n",
      "Requirement already satisfied: wcwidth in /home/harry/miniconda3/envs/fastaudio/lib/python3.8/site-packages (from prompt-toolkit!=3.0.0,!=3.0.1,<3.1.0,>=2.0.0->IPython>=7.16->fastaudio==0.0.post0.dev142+gccf6bf3) (0.2.5)\n",
      "Requirement already satisfied: ptyprocess>=0.5 in /home/harry/miniconda3/envs/fastaudio/lib/python3.8/site-packages (from pexpect>4.3; sys_platform != \"win32\"->IPython>=7.16->fastaudio==0.0.post0.dev142+gccf6bf3) (0.6.0)\n",
      "Requirement already satisfied: parso<0.8.0,>=0.7.0 in /home/harry/miniconda3/envs/fastaudio/lib/python3.8/site-packages (from jedi>=0.10->IPython>=7.16->fastaudio==0.0.post0.dev142+gccf6bf3) (0.7.1)\n"
     ]
    },
    {
     "name": "stdout",
     "output_type": "stream",
     "text": [
      "Requirement already satisfied: pycparser in /home/harry/miniconda3/envs/fastaudio/lib/python3.8/site-packages (from cffi>=1.0->soundfile>=0.9.0->librosa==0.8->fastaudio==0.0.post0.dev142+gccf6bf3) (2.20)\n",
      "Building wheels for collected packages: fastaudio\n",
      "  Building wheel for fastaudio (setup.py) ... \u001b[?25ldone\n",
      "\u001b[?25h  Created wheel for fastaudio: filename=fastaudio-0.0.post0.dev142+gccf6bf3-py2.py3-none-any.whl size=17942 sha256=d34d7bcd37a512ee4fdbd6c803a9646483531f043ecc311f4a83c850abbbc153\n",
      "  Stored in directory: /tmp/pip-ephem-wheel-cache-8ogun188/wheels/bc/2c/53/6a8f48606d7abef603516047259c2ea8efce96dc1e36cb5b8a\n",
      "Successfully built fastaudio\n",
      "Installing collected packages: fastaudio\n",
      "Successfully installed fastaudio-0.0.post0.dev142+gccf6bf3\n"
     ]
    }
   ],
   "source": [
    "!pip install git+https://github.com/fastaudio/fastaudio.git"
   ]
  },
  {
   "cell_type": "markdown",
   "metadata": {},
   "source": [
    "**COLAB USERS: Before you continue and import the lib, go to the `Runtime` menu and select `Restart Runtime`.**"
   ]
  },
  {
   "cell_type": "code",
   "execution_count": 2,
   "metadata": {},
   "outputs": [],
   "source": [
    "from fastai.vision.all import *\n",
    "from fastaudio.core.all import *\n",
    "from fastaudio.augment.all import *"
   ]
  },
  {
   "cell_type": "markdown",
   "metadata": {},
   "source": [
    "# ESC-50: Dataset for Environmental Sound Classification"
   ]
  },
  {
   "cell_type": "code",
   "execution_count": 3,
   "metadata": {},
   "outputs": [
    {
     "ename": "BadZipFile",
     "evalue": "File is not a zip file",
     "output_type": "error",
     "traceback": [
      "\u001b[0;31m---------------------------------------------------------------------------\u001b[0m",
      "\u001b[0;31mBadZipFile\u001b[0m                                Traceback (most recent call last)",
      "\u001b[0;32m<ipython-input-3-ca28b085ae07>\u001b[0m in \u001b[0;36m<module>\u001b[0;34m\u001b[0m\n\u001b[1;32m      1\u001b[0m \u001b[0;31m#The first time this will download a dataset that is ~650mb\u001b[0m\u001b[0;34m\u001b[0m\u001b[0;34m\u001b[0m\u001b[0;34m\u001b[0m\u001b[0m\n\u001b[0;32m----> 2\u001b[0;31m \u001b[0mpath\u001b[0m \u001b[0;34m=\u001b[0m \u001b[0muntar_data\u001b[0m\u001b[0;34m(\u001b[0m\u001b[0mURLs\u001b[0m\u001b[0;34m.\u001b[0m\u001b[0mESC50\u001b[0m\u001b[0;34m,\u001b[0m \u001b[0mdest\u001b[0m\u001b[0;34m=\u001b[0m\u001b[0;34m\"ESC50\"\u001b[0m\u001b[0;34m)\u001b[0m\u001b[0;34m\u001b[0m\u001b[0;34m\u001b[0m\u001b[0m\n\u001b[0m",
      "\u001b[0;32m~/miniconda3/envs/fastaudio/lib/python3.8/site-packages/fastai/data/external.py\u001b[0m in \u001b[0;36muntar_data\u001b[0;34m(url, fname, dest, c_key, force_download, extract_func, timeout)\u001b[0m\n\u001b[1;32m    257\u001b[0m         \u001b[0;32mif\u001b[0m \u001b[0m_get_check\u001b[0m\u001b[0;34m(\u001b[0m\u001b[0murl\u001b[0m\u001b[0;34m)\u001b[0m \u001b[0;32mand\u001b[0m \u001b[0m_check_file\u001b[0m\u001b[0;34m(\u001b[0m\u001b[0mfname\u001b[0m\u001b[0;34m)\u001b[0m \u001b[0;34m!=\u001b[0m \u001b[0m_get_check\u001b[0m\u001b[0;34m(\u001b[0m\u001b[0murl\u001b[0m\u001b[0;34m)\u001b[0m\u001b[0;34m:\u001b[0m\u001b[0;34m\u001b[0m\u001b[0;34m\u001b[0m\u001b[0m\n\u001b[1;32m    258\u001b[0m             \u001b[0mprint\u001b[0m\u001b[0;34m(\u001b[0m\u001b[0;34mf\"File downloaded is broken. Remove {fname} and try again.\"\u001b[0m\u001b[0;34m)\u001b[0m\u001b[0;34m\u001b[0m\u001b[0;34m\u001b[0m\u001b[0m\n\u001b[0;32m--> 259\u001b[0;31m         \u001b[0mextract_func\u001b[0m\u001b[0;34m(\u001b[0m\u001b[0mfname\u001b[0m\u001b[0;34m,\u001b[0m \u001b[0mdest\u001b[0m\u001b[0;34m.\u001b[0m\u001b[0mparent\u001b[0m\u001b[0;34m)\u001b[0m\u001b[0;34m\u001b[0m\u001b[0;34m\u001b[0m\u001b[0m\n\u001b[0m\u001b[1;32m    260\u001b[0m         \u001b[0mrename_extracted\u001b[0m\u001b[0;34m(\u001b[0m\u001b[0mdest\u001b[0m\u001b[0;34m)\u001b[0m\u001b[0;34m\u001b[0m\u001b[0;34m\u001b[0m\u001b[0m\n\u001b[1;32m    261\u001b[0m     \u001b[0;32mreturn\u001b[0m \u001b[0mdest\u001b[0m\u001b[0;34m\u001b[0m\u001b[0;34m\u001b[0m\u001b[0m\n",
      "\u001b[0;32m~/miniconda3/envs/fastaudio/lib/python3.8/site-packages/fastai/data/external.py\u001b[0m in \u001b[0;36mfile_extract\u001b[0;34m(fname, dest)\u001b[0m\n\u001b[1;32m    218\u001b[0m     \u001b[0mfname\u001b[0m \u001b[0;34m=\u001b[0m \u001b[0mstr\u001b[0m\u001b[0;34m(\u001b[0m\u001b[0mfname\u001b[0m\u001b[0;34m)\u001b[0m\u001b[0;34m\u001b[0m\u001b[0;34m\u001b[0m\u001b[0m\n\u001b[1;32m    219\u001b[0m     \u001b[0;32mif\u001b[0m   \u001b[0mfname\u001b[0m\u001b[0;34m.\u001b[0m\u001b[0mendswith\u001b[0m\u001b[0;34m(\u001b[0m\u001b[0;34m'tar.gz'\u001b[0m\u001b[0;34m)\u001b[0m\u001b[0;34m:\u001b[0m  \u001b[0mtarfile\u001b[0m\u001b[0;34m.\u001b[0m\u001b[0mopen\u001b[0m\u001b[0;34m(\u001b[0m\u001b[0mfname\u001b[0m\u001b[0;34m,\u001b[0m \u001b[0;34m'r:gz'\u001b[0m\u001b[0;34m)\u001b[0m\u001b[0;34m.\u001b[0m\u001b[0mextractall\u001b[0m\u001b[0;34m(\u001b[0m\u001b[0mdest\u001b[0m\u001b[0;34m)\u001b[0m\u001b[0;34m\u001b[0m\u001b[0;34m\u001b[0m\u001b[0m\n\u001b[0;32m--> 220\u001b[0;31m     \u001b[0;32melif\u001b[0m \u001b[0mfname\u001b[0m\u001b[0;34m.\u001b[0m\u001b[0mendswith\u001b[0m\u001b[0;34m(\u001b[0m\u001b[0;34m'zip'\u001b[0m\u001b[0;34m)\u001b[0m\u001b[0;34m:\u001b[0m \u001b[0mzipfile\u001b[0m\u001b[0;34m.\u001b[0m\u001b[0mZipFile\u001b[0m\u001b[0;34m(\u001b[0m\u001b[0mfname\u001b[0m     \u001b[0;34m)\u001b[0m\u001b[0;34m.\u001b[0m\u001b[0mextractall\u001b[0m\u001b[0;34m(\u001b[0m\u001b[0mdest\u001b[0m\u001b[0;34m)\u001b[0m\u001b[0;34m\u001b[0m\u001b[0;34m\u001b[0m\u001b[0m\n\u001b[0m\u001b[1;32m    221\u001b[0m     \u001b[0;32melse\u001b[0m\u001b[0;34m:\u001b[0m \u001b[0;32mraise\u001b[0m \u001b[0mException\u001b[0m\u001b[0;34m(\u001b[0m\u001b[0;34mf'Unrecognized archive: {fname}'\u001b[0m\u001b[0;34m)\u001b[0m\u001b[0;34m\u001b[0m\u001b[0;34m\u001b[0m\u001b[0m\n\u001b[1;32m    222\u001b[0m \u001b[0;34m\u001b[0m\u001b[0m\n",
      "\u001b[0;32m~/miniconda3/envs/fastaudio/lib/python3.8/zipfile.py\u001b[0m in \u001b[0;36m__init__\u001b[0;34m(self, file, mode, compression, allowZip64, compresslevel, strict_timestamps)\u001b[0m\n\u001b[1;32m   1267\u001b[0m         \u001b[0;32mtry\u001b[0m\u001b[0;34m:\u001b[0m\u001b[0;34m\u001b[0m\u001b[0;34m\u001b[0m\u001b[0m\n\u001b[1;32m   1268\u001b[0m             \u001b[0;32mif\u001b[0m \u001b[0mmode\u001b[0m \u001b[0;34m==\u001b[0m \u001b[0;34m'r'\u001b[0m\u001b[0;34m:\u001b[0m\u001b[0;34m\u001b[0m\u001b[0;34m\u001b[0m\u001b[0m\n\u001b[0;32m-> 1269\u001b[0;31m                 \u001b[0mself\u001b[0m\u001b[0;34m.\u001b[0m\u001b[0m_RealGetContents\u001b[0m\u001b[0;34m(\u001b[0m\u001b[0;34m)\u001b[0m\u001b[0;34m\u001b[0m\u001b[0;34m\u001b[0m\u001b[0m\n\u001b[0m\u001b[1;32m   1270\u001b[0m             \u001b[0;32melif\u001b[0m \u001b[0mmode\u001b[0m \u001b[0;32min\u001b[0m \u001b[0;34m(\u001b[0m\u001b[0;34m'w'\u001b[0m\u001b[0;34m,\u001b[0m \u001b[0;34m'x'\u001b[0m\u001b[0;34m)\u001b[0m\u001b[0;34m:\u001b[0m\u001b[0;34m\u001b[0m\u001b[0;34m\u001b[0m\u001b[0m\n\u001b[1;32m   1271\u001b[0m                 \u001b[0;31m# set the modified flag so central directory gets written\u001b[0m\u001b[0;34m\u001b[0m\u001b[0;34m\u001b[0m\u001b[0;34m\u001b[0m\u001b[0m\n",
      "\u001b[0;32m~/miniconda3/envs/fastaudio/lib/python3.8/zipfile.py\u001b[0m in \u001b[0;36m_RealGetContents\u001b[0;34m(self)\u001b[0m\n\u001b[1;32m   1334\u001b[0m             \u001b[0;32mraise\u001b[0m \u001b[0mBadZipFile\u001b[0m\u001b[0;34m(\u001b[0m\u001b[0;34m\"File is not a zip file\"\u001b[0m\u001b[0;34m)\u001b[0m\u001b[0;34m\u001b[0m\u001b[0;34m\u001b[0m\u001b[0m\n\u001b[1;32m   1335\u001b[0m         \u001b[0;32mif\u001b[0m \u001b[0;32mnot\u001b[0m \u001b[0mendrec\u001b[0m\u001b[0;34m:\u001b[0m\u001b[0;34m\u001b[0m\u001b[0;34m\u001b[0m\u001b[0m\n\u001b[0;32m-> 1336\u001b[0;31m             \u001b[0;32mraise\u001b[0m \u001b[0mBadZipFile\u001b[0m\u001b[0;34m(\u001b[0m\u001b[0;34m\"File is not a zip file\"\u001b[0m\u001b[0;34m)\u001b[0m\u001b[0;34m\u001b[0m\u001b[0;34m\u001b[0m\u001b[0m\n\u001b[0m\u001b[1;32m   1337\u001b[0m         \u001b[0;32mif\u001b[0m \u001b[0mself\u001b[0m\u001b[0;34m.\u001b[0m\u001b[0mdebug\u001b[0m \u001b[0;34m>\u001b[0m \u001b[0;36m1\u001b[0m\u001b[0;34m:\u001b[0m\u001b[0;34m\u001b[0m\u001b[0;34m\u001b[0m\u001b[0m\n\u001b[1;32m   1338\u001b[0m             \u001b[0mprint\u001b[0m\u001b[0;34m(\u001b[0m\u001b[0mendrec\u001b[0m\u001b[0;34m)\u001b[0m\u001b[0;34m\u001b[0m\u001b[0;34m\u001b[0m\u001b[0m\n",
      "\u001b[0;31mBadZipFile\u001b[0m: File is not a zip file"
     ]
    }
   ],
   "source": [
    "#The first time this will download a dataset that is ~650mb\n",
    "path = untar_data(URLs.ESC50, dest=\"ESC50\")"
   ]
  },
  {
   "cell_type": "markdown",
   "metadata": {},
   "source": [
    "The audio files are inside a subfolder `audio/`"
   ]
  },
  {
   "cell_type": "code",
   "execution_count": null,
   "metadata": {},
   "outputs": [],
   "source": [
    "(path/\"audio\").ls()"
   ]
  },
  {
   "cell_type": "markdown",
   "metadata": {},
   "source": [
    "And there's another folder `meta/` with some metadata about all the files and the labels"
   ]
  },
  {
   "cell_type": "code",
   "execution_count": null,
   "metadata": {},
   "outputs": [],
   "source": [
    "(path/\"meta\").ls()"
   ]
  },
  {
   "cell_type": "markdown",
   "metadata": {},
   "source": [
    "Opening the metadata file"
   ]
  },
  {
   "cell_type": "code",
   "execution_count": null,
   "metadata": {
    "scrolled": true
   },
   "outputs": [],
   "source": [
    "df = pd.read_csv(path/\"meta\"/\"esc50.csv\")\n",
    "df.head()"
   ]
  },
  {
   "cell_type": "markdown",
   "metadata": {},
   "source": [
    "## Datablock and Basic End to End Training"
   ]
  },
  {
   "cell_type": "code",
   "execution_count": null,
   "metadata": {},
   "outputs": [],
   "source": [
    "# Helper function to split the data\n",
    "def CrossValidationSplitter(col='fold', fold=1):\n",
    "    \"Split `items` (supposed to be a dataframe) by fold in `col`\"\n",
    "    def _inner(o):\n",
    "        assert isinstance(o, pd.DataFrame), \"ColSplitter only works when your items are a pandas DataFrame\"\n",
    "        col_values = o.iloc[:,col] if isinstance(col, int) else o[col]\n",
    "        valid_idx = (col_values == fold).values.astype('bool')\n",
    "        return IndexSplitter(mask2idxs(valid_idx))(o)\n",
    "    return _inner"
   ]
  },
  {
   "cell_type": "markdown",
   "metadata": {},
   "source": [
    "Creating the Audio to Spectrogram transform from a predefined config."
   ]
  },
  {
   "cell_type": "code",
   "execution_count": null,
   "metadata": {},
   "outputs": [],
   "source": [
    "cfg = AudioConfig.BasicMelSpectrogram(n_fft=512)\n",
    "a2s = AudioToSpec.from_cfg(cfg)"
   ]
  },
  {
   "cell_type": "markdown",
   "metadata": {},
   "source": [
    "Creating the Datablock"
   ]
  },
  {
   "cell_type": "code",
   "execution_count": null,
   "metadata": {},
   "outputs": [],
   "source": [
    "auds = DataBlock(blocks=(AudioBlock, CategoryBlock),  \n",
    "                 get_x=ColReader(\"filename\", pref=path/\"audio\"), \n",
    "                 splitter=CrossValidationSplitter(fold=1),\n",
    "                 batch_tfms = [a2s],\n",
    "                 get_y=ColReader(\"category\"))"
   ]
  },
  {
   "cell_type": "code",
   "execution_count": null,
   "metadata": {},
   "outputs": [],
   "source": [
    "dbunch = auds.dataloaders(df, bs=64)"
   ]
  },
  {
   "cell_type": "markdown",
   "metadata": {},
   "source": [
    "Visualizing one batch of data. Notice that the title of each Spectrogram is the corresponding label."
   ]
  },
  {
   "cell_type": "code",
   "execution_count": null,
   "metadata": {
    "scrolled": false
   },
   "outputs": [],
   "source": [
    "dbunch.show_batch(figsize=(10, 5))"
   ]
  },
  {
   "cell_type": "markdown",
   "metadata": {},
   "source": [
    "# Learner and Training"
   ]
  },
  {
   "cell_type": "markdown",
   "metadata": {},
   "source": [
    "While creating the learner, we need to pass a special cnn_config to indicate that our input spectrograms only have one channel. Besides that, it's the usual vision learner."
   ]
  },
  {
   "cell_type": "code",
   "execution_count": null,
   "metadata": {},
   "outputs": [],
   "source": [
    "learn = cnn_learner(dbunch, \n",
    "            resnet18, \n",
    "            config=cnn_config(n_in=1), #<- Only audio specific modification here\n",
    "            loss_fn=CrossEntropyLossFlat,\n",
    "            metrics=[accuracy])"
   ]
  },
  {
   "cell_type": "code",
   "execution_count": null,
   "metadata": {},
   "outputs": [],
   "source": [
    "import os \n",
    "from functools import partial\n",
    "\n",
    "def ci_run(func, alt_func):\n",
    "    if \"CI\" in os.environ and os.environ[\"CI\"] == \"true\":\n",
    "        return alt_func()\n",
    "    return func()\n",
    "\n",
    "def run_learner():\n",
    "    #epochs are a bit longer due to the chosen melspectrogram settings\n",
    "    learn.fine_tune(10)\n",
    "\n",
    "# We only validate the model when running in CI\n",
    "ci_run(run_learner, learn.validate)"
   ]
  }
 ],
 "metadata": {
  "kernelspec": {
   "display_name": "Python 3",
   "language": "python",
   "name": "python3"
  },
  "language_info": {
   "codemirror_mode": {
    "name": "ipython",
    "version": 3
   },
   "file_extension": ".py",
   "mimetype": "text/x-python",
   "name": "python",
   "nbconvert_exporter": "python",
   "pygments_lexer": "ipython3",
   "version": "3.8.6"
  }
 },
 "nbformat": 4,
 "nbformat_minor": 4
}
